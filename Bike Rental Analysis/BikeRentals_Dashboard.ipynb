{
 "cells": [
  {
   "cell_type": "markdown",
   "id": "95d3c525",
   "metadata": {},
   "source": [
    "<h1><right>Capital Bike Rental Analysis</right></h1>\n",
    "<h2>Ki Mau</h2>\n",
    "<br>\n",
    "<br>"
   ]
  },
  {
   "cell_type": "markdown",
   "id": "35d1baa8",
   "metadata": {},
   "source": [
    "# <center>Dashboard</center>\n",
    "<center>Note: Full Calculations and Plotting was created in main Jupyter Notebook.  This Dashboard is purely for display purposes.</center>"
   ]
  },
  {
   "cell_type": "code",
   "execution_count": 82,
   "id": "51da2c13",
   "metadata": {},
   "outputs": [],
   "source": [
    "#Library imports for our dashboard\n",
    "from IPython.display import Image\n",
    "from IPython.display import display\n",
    "import ipywidgets as widgets\n",
    "\n",
    "#import numpy as np\n",
    "#import pandas as pd\n",
    "#%matplotlib inline\n",
    "#import matplotlib as mpl\n",
    "#import matplotlib.pyplot as plt\n",
    "#from sklearn import metrics\n",
    "#import seaborn as sb\n",
    "#import sklearn as sk\n",
    "#import datetime\n",
    "#import glob"
   ]
  },
  {
   "cell_type": "code",
   "execution_count": 83,
   "id": "c14ba2cb",
   "metadata": {
    "scrolled": true
   },
   "outputs": [],
   "source": [
    "#Visual Output of pre-processed data\n",
    "\n",
    "#Graphical Month Button Selector\n",
    "month_selection = widgets.ToggleButtons(\n",
    "    options = ['January', 'February', 'March', 'April', 'May', 'June', 'July', 'August', 'September', 'October', 'November', 'December', 'All'],\n",
    "    value = 'All',\n",
    "    button_style='info')\n",
    "\n",
    "#Varables for widget outputs\n",
    "selection = widgets.Output()\n",
    "plotter1 = widgets.Output()\n",
    "plotter2 = widgets.Output()\n",
    "plotter3 = widgets.Output()\n",
    "plotter4 = widgets.Output()\n",
    "plotter5 = widgets.Output()\n",
    "projected1 = widgets.Output()\n",
    "\n",
    "#Function run depending on user selection\n",
    "def filter(month):\n",
    "    selection.clear_output()\n",
    "    plotter1.clear_output()\n",
    "    plotter2.clear_output()\n",
    "    plotter3.clear_output()\n",
    "    plotter4.clear_output()\n",
    "    plotter5.clear_output()\n",
    "    projected1.clear_output()\n",
    "\n",
    "    # Filters data based on user selection\n",
    "    if (month == 'January'): \n",
    "        month_int = \"01\"\n",
    "        regressiondata = [\"(113085, 2)\", \"(113085,)\", \"(37695, 2)\", \"(37695,)\", \"3502.4154604929904\", \n",
    "                          \"[-0.07955802 -9.81983145]\", \n",
    "                          \"[('Start station number', -0.079558015546583), ('Day', -9.819831448814606)]\",\n",
    "                          \"2139.8352794667367\"]\n",
    "    elif (month == 'February'): \n",
    "        month_int = \"02\"\n",
    "        regressiondata = [\"(118597, 2)\", \"(118597,)\", \"(39533, 2)\", \"(39533,)\", \"2829.5381555137656\", \n",
    "                          \"[-0.06085574 -2.13644049]\", \n",
    "                          \"[('Start station number', -0.060855741517370825), ('Day', -2.136440489943695)]\",\n",
    "                          \"2462.435383450521\"]\n",
    "    elif (month == 'March'): \n",
    "        month_int = \"03\"\n",
    "        regressiondata = [\"(190358, 2\", \"(190358,)\", \"(63453, 2)\", \"(63453,)\", \"6791.0678048407535\", \n",
    "                          \"[-0.1916312  18.29904259]\", \n",
    "                          \"[('Start station number', -0.19163120305452194), ('Day', 18.29904258733332)]\",\n",
    "                          \"2715.111357320683\"]        \n",
    "    elif (month == 'April'): \n",
    "        month_int = \"04\"\n",
    "        regressiondata = [\"(260994, 2\", \"(260994,)\", \"(86998, 2)\", \"(86998,)\", \"4357.678166009689\", \n",
    "                          \"[-0.09794228 -2.91781896]\", \n",
    "                          \"[('Start station number', -0.09794228437988502), ('Day', -2.917818957158672)]\",\n",
    "                          \"2623.152444561431\"]        \n",
    "    elif (month == 'May'): \n",
    "        month_int = \"05\"\n",
    "        regressiondata = [\"(253278, 2)\", \"(253278,)\", \"(84426, 2)\", \"(84426,)\", \"-1761.6062592223946\", \n",
    "                          \"[0.0888789  6.90747618]\", \n",
    "                          \"[('Start station number', 0.08887890269454969), ('Day', 6.9074761842206795)]\",\n",
    "                          \"2246.872762229989\"]              \n",
    "    elif (month == 'June'): \n",
    "        month_int = \"06\"\n",
    "        regressiondata = [\"(262608, 2)\", \"(262608,)\", \"(87536, 2)\", \"(87536,)\", \"-2166.099636225771\", \n",
    "                          \"[0.10612433 0.76531092]\", \n",
    "                          \"[('Start station number', 0.10612433279064708), ('Day', 0.7653109158451156)]\",\n",
    "                          \"2462.377049525193\"]              \n",
    "    elif (month == 'July'): \n",
    "        month_int = \"07\"\n",
    "        regressiondata = [\"(267483, 2)\", \"(267483,)\", \"(89162, 2)\", \"(89162,)\", \"1708.727490550052\", \n",
    "                          \"[-0.01392588 -6.29341125]\", \n",
    "                          \"[('Start station number', -0.013925878850484663), ('Day', -6.293411251506568)]\",\n",
    "                          \"2300.1702912406554\"]      \n",
    "    elif (month == 'August'): \n",
    "        month_int = \"08\"\n",
    "        regressiondata = [\"(270033, 2))\", \"(270033,)\", \"(90011, 2)\", \"(90011,)\", \"1070.931286215654\", \n",
    "                          \"[2.32307658e-03 -2.47795629e+00]\", \n",
    "                          \"[('Start station number', 0.002323076582837373), ('Day', -2.4779562877550694)]\",\n",
    "                          \"2038.3219998891182\"]      \n",
    "    elif (month == 'September'): \n",
    "        month_int = \"09\"\n",
    "        regressiondata = [\"(270168, 2)\", \"(270168,)\", \"(90057, 2)\", \"(90057,)\", \"-1951.2862525586427\", \n",
    "                          \"[0.0977117  -4.49557271]\", \n",
    "                          \"[('Start station number', 0.09771170287160391), ('Day', -4.495572707476335)]\",\n",
    "                          \"2055.0504577221614\"]      \n",
    "    elif (month == 'October'): \n",
    "        month_int = \"10\"\n",
    "        regressiondata = [\"(253164, 2)\", \"(253164,)\", \"(84388, 2)\", \"(84388,)\", \"1143.9304806993232\", \n",
    "                          \"[-0.00373219 -2.45442582]\", \n",
    "                          \"[('Start station number', -0.0037321929477155693), ('Day', -2.454425815803594)]\",\n",
    "                          \"1934.7568308577431\"]      \n",
    "    elif (month == 'November'): \n",
    "        month_int = \"11\"\n",
    "        regressiondata = [\"(167634, 2)\", \"(167634,)\", \"(55878, 2)\", \"(55878,)\", \"2326.4711747248916\", \n",
    "                          \"[-0.04615457 -1.40689323]\", \n",
    "                          \"[('Start station number', -0.0461545676649849), ('Day', -1.406893229204685)]\",\n",
    "                          \"1626.3898427145523\"]      \n",
    "    elif (month == 'December'): \n",
    "        month_int = \"12\"\n",
    "        regressiondata = [\"(121408, 2)\", \"(121408,)\", \"(40470, 2)\", \"(40470,)\", \"502.9406717187919\", \n",
    "                          \"[4.17792887e-03 1.33914607e+01]\", \n",
    "                          \"[('Start station number', 0.00417792887324675), ('Day', 13.391460744084242)]\",\n",
    "                          \"1702.99266375466\"]      \n",
    "    else:\n",
    "        month_int = \"All\"\n",
    "        regressiondata = [\"(2548439, 2)\", \"(2548439,)\", \"(849480, 2)\", \"(849480,)\", \"1351.7607498448203\", \n",
    "                          \"[-0.00951027  0.98282008]\", \n",
    "                          \"[('Start station number', -0.009510271839901248), ('Day', 0.9828200798291413)]\",\n",
    "                          \"2239.812471496361\"]      \n",
    "    \n",
    "    #General (Truncated) Dataset\n",
    "    with selection:\n",
    "        name = ['img/FD-' + month_int + '.png']\n",
    "        for imageName in name:\n",
    "            display(Image(filename=imageName))\n",
    "    \n",
    "    #Plots for further Data Analysis\n",
    "    with plotter1:\n",
    "        name = ['img/plot1-BRbd-' + month_int + '.png']\n",
    "        for imageName in name:\n",
    "            display(Image(filename=imageName))\n",
    "        \n",
    "    with plotter2:\n",
    "        name = ['img/plot2-DBbd-' + month_int + '.png']\n",
    "        for imageName in name:\n",
    "            display(Image(filename=imageName))\n",
    "        \n",
    "    with plotter3:\n",
    "        name = ['img/plot3-BRbh-' + month_int + '.png']\n",
    "        for imageName in name:\n",
    "            display(Image(filename=imageName))\n",
    "    \n",
    "    with plotter4:\n",
    "        name = ['img/plot4-DBbh-' + month_int + '.png']\n",
    "        for imageName in name:\n",
    "            display(Image(filename=imageName))\n",
    "    \n",
    "    with plotter5:\n",
    "        name = ['img/plot5-DrBbh-' + month_int + '.png']\n",
    "        for imageName in name:\n",
    "            display(Image(filename=imageName))\n",
    "        \n",
    "    with projected1:\n",
    "        name = ['img/proj1-DrBlnd-' + month_int + '.png']\n",
    "        for imageName in name:\n",
    "            display(Image(filename=imageName))\n",
    "\n",
    "        print(\"\\nX Train Count\")\n",
    "        print(regressiondata[0])\n",
    "        \n",
    "        print(\"\\ny Train Count\")\n",
    "        print(regressiondata[1])\n",
    "       \n",
    "        print(\"\\nX Test Count\")\n",
    "        print(regressiondata[2])\n",
    "        \n",
    "        print(\"\\ny Test Count\")\n",
    "        print(regressiondata[3])\n",
    "        \n",
    "        #Import Regression Model run\n",
    "        print(\"\\nRegression Intercept\")\n",
    "        print(regressiondata[4])\n",
    "        \n",
    "        print(\"\\nRegression Coeffecients\")\n",
    "        print(regressiondata[5])\n",
    "        \n",
    "        print(\"\\nFeatures with Coefficients\")\n",
    "        print(regressiondata[6])\n",
    "\n",
    "        print(\"\\nRMSE of testing\")\n",
    "        print(regressiondata[7])\n",
    "        \n",
    "        print(\"\\n\\nPROCESSING COMPLETED\")\n",
    "\n",
    "def month_selection_eventhandler(change):\n",
    "    filter(change.new)       \n",
    "\n",
    "\n",
    "month_selection.observe(month_selection_eventhandler, names='value')\n"
   ]
  },
  {
   "cell_type": "markdown",
   "id": "6a47918d",
   "metadata": {},
   "source": [
    "## <center>Month Selection</center>"
   ]
  },
  {
   "cell_type": "markdown",
   "id": "fab6d9b0",
   "metadata": {},
   "source": [
    "<center>Please select a month below.</center>"
   ]
  },
  {
   "cell_type": "code",
   "execution_count": 85,
   "id": "b0cf2410",
   "metadata": {},
   "outputs": [
    {
     "data": {
      "application/vnd.jupyter.widget-view+json": {
       "model_id": "ff06b377816842b9a1c732fcf445ca74",
       "version_major": 2,
       "version_minor": 0
      },
      "text/plain": [
       "ToggleButtons(button_style='info', index=12, options=('January', 'February', 'March', 'April', 'May', 'June', …"
      ]
     },
     "metadata": {},
     "output_type": "display_data"
    }
   ],
   "source": [
    "display(month_selection)"
   ]
  },
  {
   "cell_type": "markdown",
   "id": "0770ccc3",
   "metadata": {},
   "source": [
    "### <center>Filtered Data by Selection (Truncated)</center>"
   ]
  },
  {
   "cell_type": "code",
   "execution_count": 86,
   "id": "bd4751d8",
   "metadata": {},
   "outputs": [
    {
     "data": {
      "application/vnd.jupyter.widget-view+json": {
       "model_id": "c157ffd2c50d449a8a2db1833ec86167",
       "version_major": 2,
       "version_minor": 0
      },
      "text/plain": [
       "Output()"
      ]
     },
     "metadata": {},
     "output_type": "display_data"
    }
   ],
   "source": [
    "display(selection)"
   ]
  },
  {
   "cell_type": "markdown",
   "id": "9c2cc027",
   "metadata": {},
   "source": [
    "## <center>Data Analysis Plots</center>"
   ]
  },
  {
   "cell_type": "markdown",
   "id": "d104a2d1",
   "metadata": {},
   "source": [
    "### <center>Total of Bikes Rented (By Day)</center>"
   ]
  },
  {
   "cell_type": "code",
   "execution_count": 87,
   "id": "dd71ff48",
   "metadata": {
    "scrolled": false
   },
   "outputs": [
    {
     "data": {
      "application/vnd.jupyter.widget-view+json": {
       "model_id": "3d0f824a35f849798f860b12d059eaee",
       "version_major": 2,
       "version_minor": 0
      },
      "text/plain": [
       "Output()"
      ]
     },
     "metadata": {},
     "output_type": "display_data"
    }
   ],
   "source": [
    "display(plotter1)"
   ]
  },
  {
   "cell_type": "markdown",
   "id": "1d5f72e0",
   "metadata": {},
   "source": [
    "### <center>Density of Bikes Rented (By Day)</center>"
   ]
  },
  {
   "cell_type": "code",
   "execution_count": 88,
   "id": "6649d681",
   "metadata": {},
   "outputs": [
    {
     "data": {
      "application/vnd.jupyter.widget-view+json": {
       "model_id": "8278d7b853004e30b8f645f8a4286db2",
       "version_major": 2,
       "version_minor": 0
      },
      "text/plain": [
       "Output()"
      ]
     },
     "metadata": {},
     "output_type": "display_data"
    }
   ],
   "source": [
    "display(plotter2)"
   ]
  },
  {
   "cell_type": "markdown",
   "id": "f4815517",
   "metadata": {},
   "source": [
    "### <center>Total Count of Bikes Rented (By Hour)</center>"
   ]
  },
  {
   "cell_type": "code",
   "execution_count": 89,
   "id": "9fc3ad04",
   "metadata": {},
   "outputs": [
    {
     "data": {
      "application/vnd.jupyter.widget-view+json": {
       "model_id": "0f7f8c8996cd4f81aa46c045f3ffd220",
       "version_major": 2,
       "version_minor": 0
      },
      "text/plain": [
       "Output()"
      ]
     },
     "metadata": {},
     "output_type": "display_data"
    }
   ],
   "source": [
    "display(plotter3)"
   ]
  },
  {
   "cell_type": "markdown",
   "id": "55438a43",
   "metadata": {},
   "source": [
    "### <center>Density of Bikes Rented (By Hour)</center>"
   ]
  },
  {
   "cell_type": "code",
   "execution_count": 90,
   "id": "fddff3b8",
   "metadata": {
    "scrolled": false
   },
   "outputs": [
    {
     "data": {
      "application/vnd.jupyter.widget-view+json": {
       "model_id": "398b7f6f715349a19284da1979de36e1",
       "version_major": 2,
       "version_minor": 0
      },
      "text/plain": [
       "Output()"
      ]
     },
     "metadata": {},
     "output_type": "display_data"
    }
   ],
   "source": [
    "display(plotter4)"
   ]
  },
  {
   "cell_type": "markdown",
   "id": "ac7a58cc",
   "metadata": {},
   "source": [
    "### <center>Total Duration of Bikes Rented (By Hour)</center>"
   ]
  },
  {
   "cell_type": "code",
   "execution_count": 91,
   "id": "74e03d5e",
   "metadata": {},
   "outputs": [
    {
     "data": {
      "application/vnd.jupyter.widget-view+json": {
       "model_id": "3d913fbb5d234c08830d855f3bdf56ba",
       "version_major": 2,
       "version_minor": 0
      },
      "text/plain": [
       "Output()"
      ]
     },
     "metadata": {},
     "output_type": "display_data"
    }
   ],
   "source": [
    "display(plotter5)"
   ]
  },
  {
   "cell_type": "markdown",
   "id": "a5329a0e",
   "metadata": {},
   "source": [
    "## <center>Projected Data Correlation</center>"
   ]
  },
  {
   "cell_type": "markdown",
   "id": "2e320f72",
   "metadata": {},
   "source": [
    "### <center>Duration Based on Location and Day</center>"
   ]
  },
  {
   "cell_type": "code",
   "execution_count": 92,
   "id": "493a988e",
   "metadata": {},
   "outputs": [
    {
     "data": {
      "application/vnd.jupyter.widget-view+json": {
       "model_id": "eef4c955c2e6489bad2e2439f4d32980",
       "version_major": 2,
       "version_minor": 0
      },
      "text/plain": [
       "Output()"
      ]
     },
     "metadata": {},
     "output_type": "display_data"
    }
   ],
   "source": [
    "display(projected1)"
   ]
  },
  {
   "cell_type": "markdown",
   "id": "a7cdbe20",
   "metadata": {},
   "source": [
    "### <center><font color='red'>WARNING</font></center>\n",
    "<center>If \"PROCESSING COMPLETED\" is not printed directly above \"WARNING\", notebook is still running calculations.</center>"
   ]
  }
 ],
 "metadata": {
  "kernelspec": {
   "display_name": "Python 3 (ipykernel)",
   "language": "python",
   "name": "python3"
  },
  "language_info": {
   "codemirror_mode": {
    "name": "ipython",
    "version": 3
   },
   "file_extension": ".py",
   "mimetype": "text/x-python",
   "name": "python",
   "nbconvert_exporter": "python",
   "pygments_lexer": "ipython3",
   "version": "3.9.6"
  }
 },
 "nbformat": 4,
 "nbformat_minor": 5
}
