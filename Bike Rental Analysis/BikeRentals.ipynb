{
 "cells": [
  {
   "cell_type": "markdown",
   "id": "95d3c525",
   "metadata": {},
   "source": [
    "<h1><right>Capital Bike Rental Analysis</right></h1>\n",
    "<h2>Ki Mau</h2>"
   ]
  },
  {
   "cell_type": "markdown",
   "id": "265ccc21",
   "metadata": {},
   "source": [
    "## <center>Python Library Imports</center>"
   ]
  },
  {
   "cell_type": "code",
   "execution_count": 114,
   "id": "9c45d261",
   "metadata": {
    "scrolled": false
   },
   "outputs": [],
   "source": [
    "#Library imports for our project\n",
    "import numpy as np\n",
    "import pandas as pd\n",
    "%matplotlib inline\n",
    "import matplotlib as mpl\n",
    "import matplotlib.pyplot as plt\n",
    "import ipywidgets as widgets\n",
    "from IPython.display import display\n",
    "from sklearn import metrics\n",
    "import seaborn as sb\n",
    "import sklearn as sk\n",
    "import datetime\n",
    "import glob"
   ]
  },
  {
   "cell_type": "markdown",
   "id": "c2e54ab3",
   "metadata": {},
   "source": [
    "## <center>Importing and Combining Data</center>"
   ]
  },
  {
   "cell_type": "code",
   "execution_count": 115,
   "id": "e34bb2d8",
   "metadata": {
    "scrolled": false
   },
   "outputs": [],
   "source": [
    "#Combines all csv datasets from the 'data' folder\n",
    "\n",
    "#Get File names from data folder\n",
    "path =r'data/'\n",
    "filenames = glob.glob(path + \"/*.csv\")\n",
    "\n",
    "#Empty list\n",
    "dataset = []\n",
    "           \n",
    "#Add each item to list\n",
    "for file in filenames:\n",
    "    chunksize = 10 ** 6\n",
    "    for chunk in pd.read_csv(file, chunksize=chunksize):\n",
    "        #process(chunk)\n",
    "        dataset.append(chunk)\n",
    "\n",
    "# Concatenates all csv datasets into one (very large) DataFrame\n",
    "full_data = pd.concat(dataset, ignore_index=True)"
   ]
  },
  {
   "cell_type": "code",
   "execution_count": 116,
   "id": "b4681eaa",
   "metadata": {
    "scrolled": false
   },
   "outputs": [
    {
     "data": {
      "text/html": [
       "<div>\n",
       "<style scoped>\n",
       "    .dataframe tbody tr th:only-of-type {\n",
       "        vertical-align: middle;\n",
       "    }\n",
       "\n",
       "    .dataframe tbody tr th {\n",
       "        vertical-align: top;\n",
       "    }\n",
       "\n",
       "    .dataframe thead th {\n",
       "        text-align: right;\n",
       "    }\n",
       "</style>\n",
       "<table border=\"1\" class=\"dataframe\">\n",
       "  <thead>\n",
       "    <tr style=\"text-align: right;\">\n",
       "      <th></th>\n",
       "      <th>Duration</th>\n",
       "      <th>Start date</th>\n",
       "      <th>End date</th>\n",
       "      <th>Start station number</th>\n",
       "      <th>Start station</th>\n",
       "      <th>End station number</th>\n",
       "      <th>End station</th>\n",
       "      <th>Bike number</th>\n",
       "      <th>Member type</th>\n",
       "    </tr>\n",
       "  </thead>\n",
       "  <tbody>\n",
       "    <tr>\n",
       "      <th>0</th>\n",
       "      <td>230</td>\n",
       "      <td>2019-01-01 00:04:48</td>\n",
       "      <td>2019-01-01 00:08:39</td>\n",
       "      <td>31203</td>\n",
       "      <td>14th &amp; Rhode Island Ave NW</td>\n",
       "      <td>31200</td>\n",
       "      <td>Massachusetts Ave &amp; Dupont Circle NW</td>\n",
       "      <td>E00141</td>\n",
       "      <td>Member</td>\n",
       "    </tr>\n",
       "    <tr>\n",
       "      <th>1</th>\n",
       "      <td>1549</td>\n",
       "      <td>2019-01-01 00:06:37</td>\n",
       "      <td>2019-01-01 00:32:27</td>\n",
       "      <td>31321</td>\n",
       "      <td>15th St &amp; Constitution Ave NW</td>\n",
       "      <td>31114</td>\n",
       "      <td>18th St &amp; Wyoming Ave NW</td>\n",
       "      <td>W24067</td>\n",
       "      <td>Casual</td>\n",
       "    </tr>\n",
       "    <tr>\n",
       "      <th>2</th>\n",
       "      <td>177</td>\n",
       "      <td>2019-01-01 00:08:46</td>\n",
       "      <td>2019-01-01 00:11:44</td>\n",
       "      <td>31104</td>\n",
       "      <td>Adams Mill &amp; Columbia Rd NW</td>\n",
       "      <td>31323</td>\n",
       "      <td>Woodley Park Metro / Calvert St &amp; Connecticut ...</td>\n",
       "      <td>W22654</td>\n",
       "      <td>Casual</td>\n",
       "    </tr>\n",
       "    <tr>\n",
       "      <th>3</th>\n",
       "      <td>228</td>\n",
       "      <td>2019-01-01 00:08:47</td>\n",
       "      <td>2019-01-01 00:12:35</td>\n",
       "      <td>31281</td>\n",
       "      <td>8th &amp; O St NW</td>\n",
       "      <td>31280</td>\n",
       "      <td>11th &amp; S St NW</td>\n",
       "      <td>W22336</td>\n",
       "      <td>Member</td>\n",
       "    </tr>\n",
       "    <tr>\n",
       "      <th>4</th>\n",
       "      <td>1300</td>\n",
       "      <td>2019-01-01 00:12:29</td>\n",
       "      <td>2019-01-01 00:34:10</td>\n",
       "      <td>31014</td>\n",
       "      <td>Lynn &amp; 19th St North</td>\n",
       "      <td>31923</td>\n",
       "      <td>Columbia Pike &amp; S Taylor St</td>\n",
       "      <td>70004</td>\n",
       "      <td>Member</td>\n",
       "    </tr>\n",
       "    <tr>\n",
       "      <th>...</th>\n",
       "      <td>...</td>\n",
       "      <td>...</td>\n",
       "      <td>...</td>\n",
       "      <td>...</td>\n",
       "      <td>...</td>\n",
       "      <td>...</td>\n",
       "      <td>...</td>\n",
       "      <td>...</td>\n",
       "      <td>...</td>\n",
       "    </tr>\n",
       "    <tr>\n",
       "      <th>3398412</th>\n",
       "      <td>130</td>\n",
       "      <td>2019-12-31 23:57:36</td>\n",
       "      <td>2019-12-31 23:59:46</td>\n",
       "      <td>31011</td>\n",
       "      <td>Crystal Dr &amp; 23rd St S</td>\n",
       "      <td>31009</td>\n",
       "      <td>Crystal Dr &amp; 27th St S</td>\n",
       "      <td>W21285</td>\n",
       "      <td>Member</td>\n",
       "    </tr>\n",
       "    <tr>\n",
       "      <th>3398413</th>\n",
       "      <td>664</td>\n",
       "      <td>2019-12-31 23:57:47</td>\n",
       "      <td>2020-01-01 00:08:51</td>\n",
       "      <td>31125</td>\n",
       "      <td>15th &amp; W St NW</td>\n",
       "      <td>31281</td>\n",
       "      <td>8th &amp; O St NW</td>\n",
       "      <td>W24197</td>\n",
       "      <td>Member</td>\n",
       "    </tr>\n",
       "    <tr>\n",
       "      <th>3398414</th>\n",
       "      <td>389</td>\n",
       "      <td>2019-12-31 23:59:37</td>\n",
       "      <td>2020-01-01 00:06:06</td>\n",
       "      <td>31047</td>\n",
       "      <td>Braddock Rd Metro</td>\n",
       "      <td>31085</td>\n",
       "      <td>Mount Vernon Ave &amp; E Nelson Ave</td>\n",
       "      <td>W21281</td>\n",
       "      <td>Member</td>\n",
       "    </tr>\n",
       "    <tr>\n",
       "      <th>3398415</th>\n",
       "      <td>962</td>\n",
       "      <td>2019-12-31 23:59:38</td>\n",
       "      <td>2020-01-01 00:15:40</td>\n",
       "      <td>31236</td>\n",
       "      <td>37th &amp; O St NW / Georgetown University</td>\n",
       "      <td>31214</td>\n",
       "      <td>17th &amp; Corcoran St NW</td>\n",
       "      <td>W00534</td>\n",
       "      <td>Member</td>\n",
       "    </tr>\n",
       "    <tr>\n",
       "      <th>3398416</th>\n",
       "      <td>183</td>\n",
       "      <td>2019-12-31 23:59:55</td>\n",
       "      <td>2020-01-01 00:02:58</td>\n",
       "      <td>31227</td>\n",
       "      <td>13th St &amp; New York Ave NW</td>\n",
       "      <td>31254</td>\n",
       "      <td>15th &amp; K St NW</td>\n",
       "      <td>W22782</td>\n",
       "      <td>Member</td>\n",
       "    </tr>\n",
       "  </tbody>\n",
       "</table>\n",
       "<p>3398417 rows × 9 columns</p>\n",
       "</div>"
      ],
      "text/plain": [
       "         Duration           Start date             End date  \\\n",
       "0             230  2019-01-01 00:04:48  2019-01-01 00:08:39   \n",
       "1            1549  2019-01-01 00:06:37  2019-01-01 00:32:27   \n",
       "2             177  2019-01-01 00:08:46  2019-01-01 00:11:44   \n",
       "3             228  2019-01-01 00:08:47  2019-01-01 00:12:35   \n",
       "4            1300  2019-01-01 00:12:29  2019-01-01 00:34:10   \n",
       "...           ...                  ...                  ...   \n",
       "3398412       130  2019-12-31 23:57:36  2019-12-31 23:59:46   \n",
       "3398413       664  2019-12-31 23:57:47  2020-01-01 00:08:51   \n",
       "3398414       389  2019-12-31 23:59:37  2020-01-01 00:06:06   \n",
       "3398415       962  2019-12-31 23:59:38  2020-01-01 00:15:40   \n",
       "3398416       183  2019-12-31 23:59:55  2020-01-01 00:02:58   \n",
       "\n",
       "         Start station number                           Start station  \\\n",
       "0                       31203              14th & Rhode Island Ave NW   \n",
       "1                       31321           15th St & Constitution Ave NW   \n",
       "2                       31104             Adams Mill & Columbia Rd NW   \n",
       "3                       31281                           8th & O St NW   \n",
       "4                       31014                    Lynn & 19th St North   \n",
       "...                       ...                                     ...   \n",
       "3398412                 31011                  Crystal Dr & 23rd St S   \n",
       "3398413                 31125                          15th & W St NW   \n",
       "3398414                 31047                       Braddock Rd Metro   \n",
       "3398415                 31236  37th & O St NW / Georgetown University   \n",
       "3398416                 31227               13th St & New York Ave NW   \n",
       "\n",
       "         End station number  \\\n",
       "0                     31200   \n",
       "1                     31114   \n",
       "2                     31323   \n",
       "3                     31280   \n",
       "4                     31923   \n",
       "...                     ...   \n",
       "3398412               31009   \n",
       "3398413               31281   \n",
       "3398414               31085   \n",
       "3398415               31214   \n",
       "3398416               31254   \n",
       "\n",
       "                                               End station Bike number  \\\n",
       "0                     Massachusetts Ave & Dupont Circle NW      E00141   \n",
       "1                                 18th St & Wyoming Ave NW      W24067   \n",
       "2        Woodley Park Metro / Calvert St & Connecticut ...      W22654   \n",
       "3                                           11th & S St NW      W22336   \n",
       "4                              Columbia Pike & S Taylor St       70004   \n",
       "...                                                    ...         ...   \n",
       "3398412                             Crystal Dr & 27th St S      W21285   \n",
       "3398413                                      8th & O St NW      W24197   \n",
       "3398414                    Mount Vernon Ave & E Nelson Ave      W21281   \n",
       "3398415                              17th & Corcoran St NW      W00534   \n",
       "3398416                                     15th & K St NW      W22782   \n",
       "\n",
       "        Member type  \n",
       "0            Member  \n",
       "1            Casual  \n",
       "2            Casual  \n",
       "3            Member  \n",
       "4            Member  \n",
       "...             ...  \n",
       "3398412      Member  \n",
       "3398413      Member  \n",
       "3398414      Member  \n",
       "3398415      Member  \n",
       "3398416      Member  \n",
       "\n",
       "[3398417 rows x 9 columns]"
      ]
     },
     "execution_count": 116,
     "metadata": {},
     "output_type": "execute_result"
    }
   ],
   "source": [
    "#Verifying that it worked\n",
    "full_data"
   ]
  },
  {
   "cell_type": "markdown",
   "id": "f8323f07",
   "metadata": {},
   "source": [
    "## <center>Data Cleaning</center>"
   ]
  },
  {
   "cell_type": "code",
   "execution_count": 117,
   "id": "47ebc5af",
   "metadata": {
    "scrolled": false
   },
   "outputs": [
    {
     "name": "stdout",
     "output_type": "stream",
     "text": [
      "\n",
      "\n",
      "Null/NaN values\n"
     ]
    },
    {
     "data": {
      "text/html": [
       "<div>\n",
       "<style scoped>\n",
       "    .dataframe tbody tr th:only-of-type {\n",
       "        vertical-align: middle;\n",
       "    }\n",
       "\n",
       "    .dataframe tbody tr th {\n",
       "        vertical-align: top;\n",
       "    }\n",
       "\n",
       "    .dataframe thead th {\n",
       "        text-align: right;\n",
       "    }\n",
       "</style>\n",
       "<table border=\"1\" class=\"dataframe\">\n",
       "  <thead>\n",
       "    <tr style=\"text-align: right;\">\n",
       "      <th></th>\n",
       "      <th>Duration</th>\n",
       "      <th>Start date</th>\n",
       "      <th>End date</th>\n",
       "      <th>Start station number</th>\n",
       "      <th>Start station</th>\n",
       "      <th>End station number</th>\n",
       "      <th>End station</th>\n",
       "      <th>Bike number</th>\n",
       "      <th>Member type</th>\n",
       "    </tr>\n",
       "  </thead>\n",
       "  <tbody>\n",
       "    <tr>\n",
       "      <th>1377112</th>\n",
       "      <td>788</td>\n",
       "      <td>2019-06-12 06:40:39</td>\n",
       "      <td>2019-06-12 06:53:47</td>\n",
       "      <td>31306</td>\n",
       "      <td>39th &amp; Calvert St NW / Stoddert</td>\n",
       "      <td>31200</td>\n",
       "      <td>Massachusetts Ave &amp; Dupont Circle NW</td>\n",
       "      <td>NaN</td>\n",
       "      <td>Member</td>\n",
       "    </tr>\n",
       "    <tr>\n",
       "      <th>1378926</th>\n",
       "      <td>1452</td>\n",
       "      <td>2019-06-12 08:32:20</td>\n",
       "      <td>2019-06-12 08:56:33</td>\n",
       "      <td>31200</td>\n",
       "      <td>Massachusetts Ave &amp; Dupont Circle NW</td>\n",
       "      <td>31219</td>\n",
       "      <td>10th St &amp; Constitution Ave NW</td>\n",
       "      <td>NaN</td>\n",
       "      <td>Member</td>\n",
       "    </tr>\n",
       "    <tr>\n",
       "      <th>1383217</th>\n",
       "      <td>615</td>\n",
       "      <td>2019-06-12 15:45:35</td>\n",
       "      <td>2019-06-12 15:55:51</td>\n",
       "      <td>31219</td>\n",
       "      <td>10th St &amp; Constitution Ave NW</td>\n",
       "      <td>31623</td>\n",
       "      <td>Columbus Circle / Union Station</td>\n",
       "      <td>NaN</td>\n",
       "      <td>Member</td>\n",
       "    </tr>\n",
       "    <tr>\n",
       "      <th>1392193</th>\n",
       "      <td>1703</td>\n",
       "      <td>2019-06-13 11:34:37</td>\n",
       "      <td>2019-06-13 12:03:00</td>\n",
       "      <td>31507</td>\n",
       "      <td>1st &amp; Washington Hospital Center NW</td>\n",
       "      <td>31312</td>\n",
       "      <td>Wisconsin Ave &amp; O St NW</td>\n",
       "      <td>NaN</td>\n",
       "      <td>Casual</td>\n",
       "    </tr>\n",
       "    <tr>\n",
       "      <th>1396358</th>\n",
       "      <td>1075</td>\n",
       "      <td>2019-06-13 18:30:28</td>\n",
       "      <td>2019-06-13 18:48:24</td>\n",
       "      <td>31305</td>\n",
       "      <td>Connecticut Ave &amp; Newark St NW / Cleveland Park</td>\n",
       "      <td>31201</td>\n",
       "      <td>15th &amp; P St NW</td>\n",
       "      <td>NaN</td>\n",
       "      <td>Member</td>\n",
       "    </tr>\n",
       "    <tr>\n",
       "      <th>1397045</th>\n",
       "      <td>888</td>\n",
       "      <td>2019-06-13 19:18:37</td>\n",
       "      <td>2019-06-13 19:33:26</td>\n",
       "      <td>31121</td>\n",
       "      <td>Calvert St &amp; Woodley Pl NW</td>\n",
       "      <td>31401</td>\n",
       "      <td>14th St &amp; Spring Rd NW</td>\n",
       "      <td>NaN</td>\n",
       "      <td>Member</td>\n",
       "    </tr>\n",
       "    <tr>\n",
       "      <th>1401235</th>\n",
       "      <td>641</td>\n",
       "      <td>2019-06-14 08:57:17</td>\n",
       "      <td>2019-06-14 09:07:59</td>\n",
       "      <td>31324</td>\n",
       "      <td>18th &amp; New Hampshire Ave NW</td>\n",
       "      <td>31260</td>\n",
       "      <td>23rd &amp; E St NW</td>\n",
       "      <td>NaN</td>\n",
       "      <td>Member</td>\n",
       "    </tr>\n",
       "    <tr>\n",
       "      <th>1403209</th>\n",
       "      <td>1092</td>\n",
       "      <td>2019-06-14 12:14:22</td>\n",
       "      <td>2019-06-14 12:32:34</td>\n",
       "      <td>31260</td>\n",
       "      <td>23rd &amp; E St NW</td>\n",
       "      <td>31101</td>\n",
       "      <td>14th &amp; V St NW</td>\n",
       "      <td>NaN</td>\n",
       "      <td>Member</td>\n",
       "    </tr>\n",
       "    <tr>\n",
       "      <th>1403573</th>\n",
       "      <td>811</td>\n",
       "      <td>2019-06-14 12:46:04</td>\n",
       "      <td>2019-06-14 12:59:35</td>\n",
       "      <td>31101</td>\n",
       "      <td>14th &amp; V St NW</td>\n",
       "      <td>31246</td>\n",
       "      <td>M St &amp; Pennsylvania Ave NW</td>\n",
       "      <td>NaN</td>\n",
       "      <td>Member</td>\n",
       "    </tr>\n",
       "    <tr>\n",
       "      <th>1404951</th>\n",
       "      <td>470</td>\n",
       "      <td>2019-06-14 14:48:48</td>\n",
       "      <td>2019-06-14 14:56:39</td>\n",
       "      <td>31246</td>\n",
       "      <td>M St &amp; Pennsylvania Ave NW</td>\n",
       "      <td>31292</td>\n",
       "      <td>22nd St &amp; Constitution Ave NW</td>\n",
       "      <td>NaN</td>\n",
       "      <td>Member</td>\n",
       "    </tr>\n",
       "    <tr>\n",
       "      <th>1405432</th>\n",
       "      <td>2219</td>\n",
       "      <td>2019-06-14 15:28:43</td>\n",
       "      <td>2019-06-14 16:05:43</td>\n",
       "      <td>31292</td>\n",
       "      <td>22nd St &amp; Constitution Ave NW</td>\n",
       "      <td>31219</td>\n",
       "      <td>10th St &amp; Constitution Ave NW</td>\n",
       "      <td>NaN</td>\n",
       "      <td>Member</td>\n",
       "    </tr>\n",
       "    <tr>\n",
       "      <th>1409467</th>\n",
       "      <td>619</td>\n",
       "      <td>2019-06-14 18:42:13</td>\n",
       "      <td>2019-06-14 18:52:32</td>\n",
       "      <td>31219</td>\n",
       "      <td>10th St &amp; Constitution Ave NW</td>\n",
       "      <td>31624</td>\n",
       "      <td>North Capitol St &amp; F St NW</td>\n",
       "      <td>NaN</td>\n",
       "      <td>Member</td>\n",
       "    </tr>\n",
       "    <tr>\n",
       "      <th>1409874</th>\n",
       "      <td>91</td>\n",
       "      <td>2019-06-14 19:05:46</td>\n",
       "      <td>2019-06-14 19:07:18</td>\n",
       "      <td>31624</td>\n",
       "      <td>North Capitol St &amp; F St NW</td>\n",
       "      <td>31655</td>\n",
       "      <td>New Jersey Ave &amp; F St NW</td>\n",
       "      <td>NaN</td>\n",
       "      <td>Member</td>\n",
       "    </tr>\n",
       "    <tr>\n",
       "      <th>1451546</th>\n",
       "      <td>3691</td>\n",
       "      <td>2019-06-18 15:57:25</td>\n",
       "      <td>2019-06-18 16:58:56</td>\n",
       "      <td>31655</td>\n",
       "      <td>New Jersey Ave &amp; F St NW</td>\n",
       "      <td>31655</td>\n",
       "      <td>New Jersey Ave &amp; F St NW</td>\n",
       "      <td>NaN</td>\n",
       "      <td>Casual</td>\n",
       "    </tr>\n",
       "  </tbody>\n",
       "</table>\n",
       "</div>"
      ],
      "text/plain": [
       "         Duration           Start date             End date  \\\n",
       "1377112       788  2019-06-12 06:40:39  2019-06-12 06:53:47   \n",
       "1378926      1452  2019-06-12 08:32:20  2019-06-12 08:56:33   \n",
       "1383217       615  2019-06-12 15:45:35  2019-06-12 15:55:51   \n",
       "1392193      1703  2019-06-13 11:34:37  2019-06-13 12:03:00   \n",
       "1396358      1075  2019-06-13 18:30:28  2019-06-13 18:48:24   \n",
       "1397045       888  2019-06-13 19:18:37  2019-06-13 19:33:26   \n",
       "1401235       641  2019-06-14 08:57:17  2019-06-14 09:07:59   \n",
       "1403209      1092  2019-06-14 12:14:22  2019-06-14 12:32:34   \n",
       "1403573       811  2019-06-14 12:46:04  2019-06-14 12:59:35   \n",
       "1404951       470  2019-06-14 14:48:48  2019-06-14 14:56:39   \n",
       "1405432      2219  2019-06-14 15:28:43  2019-06-14 16:05:43   \n",
       "1409467       619  2019-06-14 18:42:13  2019-06-14 18:52:32   \n",
       "1409874        91  2019-06-14 19:05:46  2019-06-14 19:07:18   \n",
       "1451546      3691  2019-06-18 15:57:25  2019-06-18 16:58:56   \n",
       "\n",
       "         Start station number  \\\n",
       "1377112                 31306   \n",
       "1378926                 31200   \n",
       "1383217                 31219   \n",
       "1392193                 31507   \n",
       "1396358                 31305   \n",
       "1397045                 31121   \n",
       "1401235                 31324   \n",
       "1403209                 31260   \n",
       "1403573                 31101   \n",
       "1404951                 31246   \n",
       "1405432                 31292   \n",
       "1409467                 31219   \n",
       "1409874                 31624   \n",
       "1451546                 31655   \n",
       "\n",
       "                                           Start station  End station number  \\\n",
       "1377112                  39th & Calvert St NW / Stoddert               31200   \n",
       "1378926             Massachusetts Ave & Dupont Circle NW               31219   \n",
       "1383217                    10th St & Constitution Ave NW               31623   \n",
       "1392193              1st & Washington Hospital Center NW               31312   \n",
       "1396358  Connecticut Ave & Newark St NW / Cleveland Park               31201   \n",
       "1397045                       Calvert St & Woodley Pl NW               31401   \n",
       "1401235                      18th & New Hampshire Ave NW               31260   \n",
       "1403209                                  23rd & E St NW                31101   \n",
       "1403573                                   14th & V St NW               31246   \n",
       "1404951                       M St & Pennsylvania Ave NW               31292   \n",
       "1405432                    22nd St & Constitution Ave NW               31219   \n",
       "1409467                    10th St & Constitution Ave NW               31624   \n",
       "1409874                       North Capitol St & F St NW               31655   \n",
       "1451546                         New Jersey Ave & F St NW               31655   \n",
       "\n",
       "                                  End station Bike number Member type  \n",
       "1377112  Massachusetts Ave & Dupont Circle NW         NaN      Member  \n",
       "1378926         10th St & Constitution Ave NW         NaN      Member  \n",
       "1383217       Columbus Circle / Union Station         NaN      Member  \n",
       "1392193               Wisconsin Ave & O St NW         NaN      Casual  \n",
       "1396358                        15th & P St NW         NaN      Member  \n",
       "1397045                14th St & Spring Rd NW         NaN      Member  \n",
       "1401235                       23rd & E St NW          NaN      Member  \n",
       "1403209                        14th & V St NW         NaN      Member  \n",
       "1403573            M St & Pennsylvania Ave NW         NaN      Member  \n",
       "1404951         22nd St & Constitution Ave NW         NaN      Member  \n",
       "1405432         10th St & Constitution Ave NW         NaN      Member  \n",
       "1409467            North Capitol St & F St NW         NaN      Member  \n",
       "1409874              New Jersey Ave & F St NW         NaN      Member  \n",
       "1451546              New Jersey Ave & F St NW         NaN      Casual  "
      ]
     },
     "execution_count": 117,
     "metadata": {},
     "output_type": "execute_result"
    }
   ],
   "source": [
    "#Searching for any Null values\n",
    "print(\"\\n\\nNull/NaN values\")\n",
    "null_data = full_data[full_data.isnull().any(axis=1)]\n",
    "null_data"
   ]
  },
  {
   "cell_type": "code",
   "execution_count": 118,
   "id": "ea461066",
   "metadata": {
    "scrolled": false
   },
   "outputs": [
    {
     "name": "stdout",
     "output_type": "stream",
     "text": [
      "\n",
      "Does not affect our current process, leaving as-is.\n"
     ]
    }
   ],
   "source": [
    "#Since we're not going to do anything with the individual Bike Numbers for this project, \n",
    "#these NaN values are acceptable to leave in place.\n",
    "print(\"\\nDoes not affect our current process, leaving as-is.\")"
   ]
  },
  {
   "cell_type": "code",
   "execution_count": 119,
   "id": "fdfd60c1",
   "metadata": {
    "scrolled": false
   },
   "outputs": [
    {
     "name": "stdout",
     "output_type": "stream",
     "text": [
      "\n",
      "\n",
      "Searching for missing values\n"
     ]
    },
    {
     "data": {
      "text/plain": [
       "(array([], dtype=int64), array([], dtype=int64))"
      ]
     },
     "execution_count": 119,
     "metadata": {},
     "output_type": "execute_result"
    }
   ],
   "source": [
    "#Searching for any missing values\n",
    "print(\"\\n\\nSearching for missing values\")\n",
    "missing_data = np.where(full_data.applymap(lambda x: x == ''))\n",
    "\n",
    "missing_data"
   ]
  },
  {
   "cell_type": "code",
   "execution_count": 120,
   "id": "448b2914",
   "metadata": {
    "scrolled": false
   },
   "outputs": [
    {
     "name": "stdout",
     "output_type": "stream",
     "text": [
      "No missing values found.\n",
      "\n"
     ]
    }
   ],
   "source": [
    "#No empty values found.\n",
    "print(\"No missing values found.\\n\")"
   ]
  },
  {
   "cell_type": "markdown",
   "id": "35d1baa8",
   "metadata": {},
   "source": [
    "## <center>Additional Data Extrapolation</center>"
   ]
  },
  {
   "cell_type": "code",
   "execution_count": 121,
   "id": "4703910d",
   "metadata": {
    "scrolled": false
   },
   "outputs": [
    {
     "name": "stdout",
     "output_type": "stream",
     "text": [
      "\n",
      "\n",
      "Added Month, Day, and Hour columns\n"
     ]
    },
    {
     "data": {
      "text/html": [
       "<div>\n",
       "<style scoped>\n",
       "    .dataframe tbody tr th:only-of-type {\n",
       "        vertical-align: middle;\n",
       "    }\n",
       "\n",
       "    .dataframe tbody tr th {\n",
       "        vertical-align: top;\n",
       "    }\n",
       "\n",
       "    .dataframe thead th {\n",
       "        text-align: right;\n",
       "    }\n",
       "</style>\n",
       "<table border=\"1\" class=\"dataframe\">\n",
       "  <thead>\n",
       "    <tr style=\"text-align: right;\">\n",
       "      <th></th>\n",
       "      <th>Duration</th>\n",
       "      <th>Start date</th>\n",
       "      <th>End date</th>\n",
       "      <th>Start station number</th>\n",
       "      <th>Start station</th>\n",
       "      <th>End station number</th>\n",
       "      <th>End station</th>\n",
       "      <th>Bike number</th>\n",
       "      <th>Member type</th>\n",
       "      <th>Month</th>\n",
       "      <th>Day</th>\n",
       "      <th>Hour</th>\n",
       "    </tr>\n",
       "  </thead>\n",
       "  <tbody>\n",
       "    <tr>\n",
       "      <th>0</th>\n",
       "      <td>230</td>\n",
       "      <td>2019-01-01 00:04:48</td>\n",
       "      <td>2019-01-01 00:08:39</td>\n",
       "      <td>31203</td>\n",
       "      <td>14th &amp; Rhode Island Ave NW</td>\n",
       "      <td>31200</td>\n",
       "      <td>Massachusetts Ave &amp; Dupont Circle NW</td>\n",
       "      <td>E00141</td>\n",
       "      <td>Member</td>\n",
       "      <td>January</td>\n",
       "      <td>1</td>\n",
       "      <td>0</td>\n",
       "    </tr>\n",
       "    <tr>\n",
       "      <th>1</th>\n",
       "      <td>1549</td>\n",
       "      <td>2019-01-01 00:06:37</td>\n",
       "      <td>2019-01-01 00:32:27</td>\n",
       "      <td>31321</td>\n",
       "      <td>15th St &amp; Constitution Ave NW</td>\n",
       "      <td>31114</td>\n",
       "      <td>18th St &amp; Wyoming Ave NW</td>\n",
       "      <td>W24067</td>\n",
       "      <td>Casual</td>\n",
       "      <td>January</td>\n",
       "      <td>1</td>\n",
       "      <td>0</td>\n",
       "    </tr>\n",
       "    <tr>\n",
       "      <th>2</th>\n",
       "      <td>177</td>\n",
       "      <td>2019-01-01 00:08:46</td>\n",
       "      <td>2019-01-01 00:11:44</td>\n",
       "      <td>31104</td>\n",
       "      <td>Adams Mill &amp; Columbia Rd NW</td>\n",
       "      <td>31323</td>\n",
       "      <td>Woodley Park Metro / Calvert St &amp; Connecticut ...</td>\n",
       "      <td>W22654</td>\n",
       "      <td>Casual</td>\n",
       "      <td>January</td>\n",
       "      <td>1</td>\n",
       "      <td>0</td>\n",
       "    </tr>\n",
       "    <tr>\n",
       "      <th>3</th>\n",
       "      <td>228</td>\n",
       "      <td>2019-01-01 00:08:47</td>\n",
       "      <td>2019-01-01 00:12:35</td>\n",
       "      <td>31281</td>\n",
       "      <td>8th &amp; O St NW</td>\n",
       "      <td>31280</td>\n",
       "      <td>11th &amp; S St NW</td>\n",
       "      <td>W22336</td>\n",
       "      <td>Member</td>\n",
       "      <td>January</td>\n",
       "      <td>1</td>\n",
       "      <td>0</td>\n",
       "    </tr>\n",
       "    <tr>\n",
       "      <th>4</th>\n",
       "      <td>1300</td>\n",
       "      <td>2019-01-01 00:12:29</td>\n",
       "      <td>2019-01-01 00:34:10</td>\n",
       "      <td>31014</td>\n",
       "      <td>Lynn &amp; 19th St North</td>\n",
       "      <td>31923</td>\n",
       "      <td>Columbia Pike &amp; S Taylor St</td>\n",
       "      <td>70004</td>\n",
       "      <td>Member</td>\n",
       "      <td>January</td>\n",
       "      <td>1</td>\n",
       "      <td>0</td>\n",
       "    </tr>\n",
       "    <tr>\n",
       "      <th>...</th>\n",
       "      <td>...</td>\n",
       "      <td>...</td>\n",
       "      <td>...</td>\n",
       "      <td>...</td>\n",
       "      <td>...</td>\n",
       "      <td>...</td>\n",
       "      <td>...</td>\n",
       "      <td>...</td>\n",
       "      <td>...</td>\n",
       "      <td>...</td>\n",
       "      <td>...</td>\n",
       "      <td>...</td>\n",
       "    </tr>\n",
       "    <tr>\n",
       "      <th>3398412</th>\n",
       "      <td>130</td>\n",
       "      <td>2019-12-31 23:57:36</td>\n",
       "      <td>2019-12-31 23:59:46</td>\n",
       "      <td>31011</td>\n",
       "      <td>Crystal Dr &amp; 23rd St S</td>\n",
       "      <td>31009</td>\n",
       "      <td>Crystal Dr &amp; 27th St S</td>\n",
       "      <td>W21285</td>\n",
       "      <td>Member</td>\n",
       "      <td>December</td>\n",
       "      <td>31</td>\n",
       "      <td>23</td>\n",
       "    </tr>\n",
       "    <tr>\n",
       "      <th>3398413</th>\n",
       "      <td>664</td>\n",
       "      <td>2019-12-31 23:57:47</td>\n",
       "      <td>2020-01-01 00:08:51</td>\n",
       "      <td>31125</td>\n",
       "      <td>15th &amp; W St NW</td>\n",
       "      <td>31281</td>\n",
       "      <td>8th &amp; O St NW</td>\n",
       "      <td>W24197</td>\n",
       "      <td>Member</td>\n",
       "      <td>December</td>\n",
       "      <td>31</td>\n",
       "      <td>23</td>\n",
       "    </tr>\n",
       "    <tr>\n",
       "      <th>3398414</th>\n",
       "      <td>389</td>\n",
       "      <td>2019-12-31 23:59:37</td>\n",
       "      <td>2020-01-01 00:06:06</td>\n",
       "      <td>31047</td>\n",
       "      <td>Braddock Rd Metro</td>\n",
       "      <td>31085</td>\n",
       "      <td>Mount Vernon Ave &amp; E Nelson Ave</td>\n",
       "      <td>W21281</td>\n",
       "      <td>Member</td>\n",
       "      <td>December</td>\n",
       "      <td>31</td>\n",
       "      <td>23</td>\n",
       "    </tr>\n",
       "    <tr>\n",
       "      <th>3398415</th>\n",
       "      <td>962</td>\n",
       "      <td>2019-12-31 23:59:38</td>\n",
       "      <td>2020-01-01 00:15:40</td>\n",
       "      <td>31236</td>\n",
       "      <td>37th &amp; O St NW / Georgetown University</td>\n",
       "      <td>31214</td>\n",
       "      <td>17th &amp; Corcoran St NW</td>\n",
       "      <td>W00534</td>\n",
       "      <td>Member</td>\n",
       "      <td>December</td>\n",
       "      <td>31</td>\n",
       "      <td>23</td>\n",
       "    </tr>\n",
       "    <tr>\n",
       "      <th>3398416</th>\n",
       "      <td>183</td>\n",
       "      <td>2019-12-31 23:59:55</td>\n",
       "      <td>2020-01-01 00:02:58</td>\n",
       "      <td>31227</td>\n",
       "      <td>13th St &amp; New York Ave NW</td>\n",
       "      <td>31254</td>\n",
       "      <td>15th &amp; K St NW</td>\n",
       "      <td>W22782</td>\n",
       "      <td>Member</td>\n",
       "      <td>December</td>\n",
       "      <td>31</td>\n",
       "      <td>23</td>\n",
       "    </tr>\n",
       "  </tbody>\n",
       "</table>\n",
       "<p>3398417 rows × 12 columns</p>\n",
       "</div>"
      ],
      "text/plain": [
       "         Duration          Start date             End date  \\\n",
       "0             230 2019-01-01 00:04:48  2019-01-01 00:08:39   \n",
       "1            1549 2019-01-01 00:06:37  2019-01-01 00:32:27   \n",
       "2             177 2019-01-01 00:08:46  2019-01-01 00:11:44   \n",
       "3             228 2019-01-01 00:08:47  2019-01-01 00:12:35   \n",
       "4            1300 2019-01-01 00:12:29  2019-01-01 00:34:10   \n",
       "...           ...                 ...                  ...   \n",
       "3398412       130 2019-12-31 23:57:36  2019-12-31 23:59:46   \n",
       "3398413       664 2019-12-31 23:57:47  2020-01-01 00:08:51   \n",
       "3398414       389 2019-12-31 23:59:37  2020-01-01 00:06:06   \n",
       "3398415       962 2019-12-31 23:59:38  2020-01-01 00:15:40   \n",
       "3398416       183 2019-12-31 23:59:55  2020-01-01 00:02:58   \n",
       "\n",
       "         Start station number                           Start station  \\\n",
       "0                       31203              14th & Rhode Island Ave NW   \n",
       "1                       31321           15th St & Constitution Ave NW   \n",
       "2                       31104             Adams Mill & Columbia Rd NW   \n",
       "3                       31281                           8th & O St NW   \n",
       "4                       31014                    Lynn & 19th St North   \n",
       "...                       ...                                     ...   \n",
       "3398412                 31011                  Crystal Dr & 23rd St S   \n",
       "3398413                 31125                          15th & W St NW   \n",
       "3398414                 31047                       Braddock Rd Metro   \n",
       "3398415                 31236  37th & O St NW / Georgetown University   \n",
       "3398416                 31227               13th St & New York Ave NW   \n",
       "\n",
       "         End station number  \\\n",
       "0                     31200   \n",
       "1                     31114   \n",
       "2                     31323   \n",
       "3                     31280   \n",
       "4                     31923   \n",
       "...                     ...   \n",
       "3398412               31009   \n",
       "3398413               31281   \n",
       "3398414               31085   \n",
       "3398415               31214   \n",
       "3398416               31254   \n",
       "\n",
       "                                               End station Bike number  \\\n",
       "0                     Massachusetts Ave & Dupont Circle NW      E00141   \n",
       "1                                 18th St & Wyoming Ave NW      W24067   \n",
       "2        Woodley Park Metro / Calvert St & Connecticut ...      W22654   \n",
       "3                                           11th & S St NW      W22336   \n",
       "4                              Columbia Pike & S Taylor St       70004   \n",
       "...                                                    ...         ...   \n",
       "3398412                             Crystal Dr & 27th St S      W21285   \n",
       "3398413                                      8th & O St NW      W24197   \n",
       "3398414                    Mount Vernon Ave & E Nelson Ave      W21281   \n",
       "3398415                              17th & Corcoran St NW      W00534   \n",
       "3398416                                     15th & K St NW      W22782   \n",
       "\n",
       "        Member type     Month  Day  Hour  \n",
       "0            Member   January    1     0  \n",
       "1            Casual   January    1     0  \n",
       "2            Casual   January    1     0  \n",
       "3            Member   January    1     0  \n",
       "4            Member   January    1     0  \n",
       "...             ...       ...  ...   ...  \n",
       "3398412      Member  December   31    23  \n",
       "3398413      Member  December   31    23  \n",
       "3398414      Member  December   31    23  \n",
       "3398415      Member  December   31    23  \n",
       "3398416      Member  December   31    23  \n",
       "\n",
       "[3398417 rows x 12 columns]"
      ]
     },
     "execution_count": 121,
     "metadata": {},
     "output_type": "execute_result"
    }
   ],
   "source": [
    "#Converting Start date column to proper datetime object\n",
    "full_data['Start date'] = pd.to_datetime(full_data['Start date'])\n",
    "\n",
    "#Adding a month column from date\n",
    "full_data['Month'] = full_data['Start date'].dt.month_name()\n",
    "\n",
    "#Adding a day column from date\n",
    "full_data['Day'] = full_data['Start date'].dt.day\n",
    "\n",
    "#Adding an hour column from date\n",
    "full_data['Hour'] = full_data['Start date'].dt.hour\n",
    "\n",
    "print(\"\\n\\nAdded Month, Day, and Hour columns\")\n",
    "\n",
    "#Check\n",
    "full_data"
   ]
  },
  {
   "cell_type": "code",
   "execution_count": 122,
   "id": "98e343c9",
   "metadata": {},
   "outputs": [],
   "source": [
    "ALL='All'\n",
    "def unique_months_and_all(array):\n",
    "    umonths = array.unique().tolist()\n",
    "    umonths.append(ALL)\n",
    "    return umonths"
   ]
  },
  {
   "cell_type": "code",
   "execution_count": 123,
   "id": "c14ba2cb",
   "metadata": {
    "scrolled": true
   },
   "outputs": [],
   "source": [
    "#Visual Output\n",
    "#Including Month Selection and actual visual plot output\n",
    "\n",
    "#Graphical Month Button Selector\n",
    "month_selection = widgets.ToggleButtons(\n",
    "    options = unique_months_and_all(full_data.Month),\n",
    "    value='All',\n",
    "    button_style='info',\n",
    ")\n",
    "\n",
    "#Varables for widget outputs\n",
    "selection = widgets.Output()\n",
    "projected1 = widgets.Output()\n",
    "plotter1 = widgets.Output()\n",
    "plotter2 = widgets.Output()\n",
    "plotter3 = widgets.Output()\n",
    "plotter4 = widgets.Output()\n",
    "plotter5 = widgets.Output()\n",
    "\n",
    "#Function run depending on user selection\n",
    "def filter(month):\n",
    "    selection.clear_output()\n",
    "    projected1.clear_output()\n",
    "    plotter1.clear_output()\n",
    "    plotter2.clear_output()\n",
    "    plotter3.clear_output()\n",
    "    plotter4.clear_output()\n",
    "    plotter5.clear_output()\n",
    "\n",
    "    # Filters data based on user selection\n",
    "    if (month == 'All'): \n",
    "        filtered_data = full_data[full_data[\"Start station number\"] != 0]\n",
    "    else:\n",
    "        #filtered_data = full_data[full_data.Month == month]\n",
    "        filtered_data = full_data[(full_data.Month == month) & (full_data[\"Start station number\"] != 0)]  \n",
    "    \n",
    "    #General (Truncated) Dataset\n",
    "    with selection:\n",
    "        display(filtered_data)\n",
    "        \n",
    "\n",
    "    #Plots for further Data Analysis\n",
    "    with plotter1:\n",
    "        sb.set_theme(style=\"ticks\")\n",
    "        f, ax = plt.subplots(figsize=(10, 10))\n",
    "        sb.despine(f)\n",
    "        sb.histplot(\n",
    "            filtered_data,\n",
    "            x=\"Day\",\n",
    "            )\n",
    "        ax.set_xticks(range(1,32))\n",
    "        #plt.savefig('plot1-BRbd.png')\n",
    "        plt.show()\n",
    "        \n",
    "        \n",
    "    with plotter2:\n",
    "        f, ax = plt.subplots(figsize=(10, 10))\n",
    "        sb.kdeplot(filtered_data['Day'], \n",
    "                   shade=True,                   \n",
    "                  )\n",
    "        ax.set_xlim(1,31)\n",
    "        ax.set_xticks(range(1,32))\n",
    "        #plt.savefig('plot2-DBbd.png')\n",
    "        plt.show()\n",
    "        \n",
    "    with plotter3:\n",
    "        sb.set_theme(style=\"ticks\")\n",
    "        f, ax = plt.subplots(figsize=(10, 10))\n",
    "        sb.despine(f)\n",
    "        sb.histplot(\n",
    "            filtered_data,\n",
    "            x=\"Hour\",\n",
    "            )\n",
    "        ax.set_xticks(range(0,24))\n",
    "        #plt.savefig('plot3-BRbh.png')\n",
    "        plt.show()\n",
    "    \n",
    "    with plotter4:\n",
    "        f, ax = plt.subplots(figsize=(10, 10))\n",
    "        sb.kdeplot(filtered_data['Hour'], \n",
    "                   shade=True,\n",
    "                  )\n",
    "        ax.set_xlim(0,23)\n",
    "        ax.set_xticks(range(0,24))\n",
    "        #plt.savefig('plot4-DBbh.png')\n",
    "        plt.show()\n",
    "    \n",
    "    with plotter5:\n",
    "\n",
    "        sb.set_theme(style=\"whitegrid\")        \n",
    "        f, ax = plt.subplots(figsize=(10, 10))\n",
    "        sb.despine(f, left=True, bottom=True)\n",
    "        sb.scatterplot(x=\"Hour\", y=\"Duration\",\n",
    "                        palette=\"ch:r=-.2,d=.3_r\",\n",
    "                        data=filtered_data, \n",
    "                        )\n",
    "        ax.set_xticks(range(0,24))\n",
    "        #plt.savefig('plot5-DrBbh.png')\n",
    "        plt.show()\n",
    "        \n",
    "    with projected1:\n",
    "        sb.pairplot(filtered_data, \n",
    "                    x_vars=['Start station number','Day'], \n",
    "                    y_vars='Duration', \n",
    "                    height=8, aspect=0.8, \n",
    "                    kind='reg')\n",
    "        \n",
    "        feature_columns = ['Start station number', 'Day']\n",
    "        X = filtered_data[feature_columns]\n",
    "\n",
    "        y = filtered_data['Duration']\n",
    "\n",
    "        from sklearn.model_selection import train_test_split\n",
    "        X_train, X_test, y_train, y_test = sk.model_selection.train_test_split(X, y, random_state=1)\n",
    "        \n",
    "        #plt.savefig('proj1-DrBlnd.png')\n",
    "        plt.show()\n",
    "\n",
    "        print(\"\\nX Train Count\")\n",
    "        print(X_train.shape)\n",
    "        \n",
    "        print(\"\\ny Train Count\")\n",
    "        print(y_train.shape)\n",
    "       \n",
    "        print(\"\\nX Test Count\")\n",
    "        print(X_test.shape)\n",
    "        \n",
    "        print(\"\\ny Test Count\")\n",
    "        print(y_test.shape)\n",
    "        \n",
    "        #Import Regression Model and run\n",
    "        from sklearn.linear_model import LinearRegression\n",
    "        linreg = LinearRegression()\n",
    "        linreg.fit(X_train, y_train)\n",
    "        \n",
    "        print(\"\\nRegression Intercept\")\n",
    "        print(linreg.intercept_)\n",
    "        \n",
    "        print(\"\\nRegression Coeffecients\")\n",
    "        print(linreg.coef_)\n",
    "        \n",
    "        print(\"\\nFeatures with Coefficients\")\n",
    "        print(list(zip(feature_columns, linreg.coef_)))\n",
    "        \n",
    "        #y_prediction\n",
    "        y_pred = linreg.predict(X_test)\n",
    "        \n",
    "        print(\"\\nRMSE of testing\")\n",
    "        print(np.sqrt(metrics.mean_squared_error(y_test, y_pred)))\n",
    "        \n",
    "        print(\"\\n\\nPROCESSING COMPLETED\")\n",
    "\n",
    "\n",
    "def month_selection_eventhandler(change):\n",
    "    filter(change.new)       \n",
    "\n",
    "\n",
    "month_selection.observe(month_selection_eventhandler, names='value')\n"
   ]
  },
  {
   "cell_type": "markdown",
   "id": "6a47918d",
   "metadata": {},
   "source": [
    "## <center>Month Selection</center>"
   ]
  },
  {
   "cell_type": "code",
   "execution_count": 124,
   "id": "dad762b5",
   "metadata": {},
   "outputs": [
    {
     "name": "stdout",
     "output_type": "stream",
     "text": [
      "Please select a month below.\n"
     ]
    }
   ],
   "source": [
    "print(\"Please select a month below.\")"
   ]
  },
  {
   "cell_type": "code",
   "execution_count": 125,
   "id": "b0cf2410",
   "metadata": {},
   "outputs": [
    {
     "data": {
      "application/vnd.jupyter.widget-view+json": {
       "model_id": "31da840b62c741edb758ef2241246baf",
       "version_major": 2,
       "version_minor": 0
      },
      "text/plain": [
       "ToggleButtons(button_style='info', index=12, options=('January', 'February', 'March', 'April', 'May', 'June', …"
      ]
     },
     "metadata": {},
     "output_type": "display_data"
    }
   ],
   "source": [
    "display(month_selection)"
   ]
  },
  {
   "cell_type": "markdown",
   "id": "0770ccc3",
   "metadata": {},
   "source": [
    "### <center>Filtered Data by Selection (Truncated)</center>"
   ]
  },
  {
   "cell_type": "code",
   "execution_count": 126,
   "id": "bd4751d8",
   "metadata": {
    "scrolled": false
   },
   "outputs": [
    {
     "data": {
      "application/vnd.jupyter.widget-view+json": {
       "model_id": "6f596ca7d1c64d5c97a911b6d6db447f",
       "version_major": 2,
       "version_minor": 0
      },
      "text/plain": [
       "Output()"
      ]
     },
     "metadata": {},
     "output_type": "display_data"
    }
   ],
   "source": [
    "display(selection)"
   ]
  },
  {
   "cell_type": "markdown",
   "id": "9c2cc027",
   "metadata": {},
   "source": [
    "## <center>Data Analysis Plots</center>"
   ]
  },
  {
   "cell_type": "markdown",
   "id": "d104a2d1",
   "metadata": {},
   "source": [
    "### <center>Total of Bikes Rented (By Day)</center>"
   ]
  },
  {
   "cell_type": "code",
   "execution_count": 127,
   "id": "dd71ff48",
   "metadata": {
    "scrolled": false
   },
   "outputs": [
    {
     "data": {
      "application/vnd.jupyter.widget-view+json": {
       "model_id": "ff469a7f8c3043b99a41daa2a4674423",
       "version_major": 2,
       "version_minor": 0
      },
      "text/plain": [
       "Output()"
      ]
     },
     "metadata": {},
     "output_type": "display_data"
    }
   ],
   "source": [
    "display(plotter1)"
   ]
  },
  {
   "cell_type": "markdown",
   "id": "1d5f72e0",
   "metadata": {},
   "source": [
    "### <center>Density of Bikes Rented (By Day)</center>"
   ]
  },
  {
   "cell_type": "code",
   "execution_count": 128,
   "id": "6649d681",
   "metadata": {},
   "outputs": [
    {
     "data": {
      "application/vnd.jupyter.widget-view+json": {
       "model_id": "98d2654c0bf44285ae7feba5388fd8a7",
       "version_major": 2,
       "version_minor": 0
      },
      "text/plain": [
       "Output()"
      ]
     },
     "metadata": {},
     "output_type": "display_data"
    }
   ],
   "source": [
    "display(plotter2)"
   ]
  },
  {
   "cell_type": "markdown",
   "id": "f4815517",
   "metadata": {},
   "source": [
    "### <center>Total Count of Bikes Rented (By Hour)</center>"
   ]
  },
  {
   "cell_type": "code",
   "execution_count": 129,
   "id": "9fc3ad04",
   "metadata": {},
   "outputs": [
    {
     "data": {
      "application/vnd.jupyter.widget-view+json": {
       "model_id": "23f014731b7b4dcc8a6609526627ca45",
       "version_major": 2,
       "version_minor": 0
      },
      "text/plain": [
       "Output()"
      ]
     },
     "metadata": {},
     "output_type": "display_data"
    }
   ],
   "source": [
    "display(plotter3)"
   ]
  },
  {
   "cell_type": "markdown",
   "id": "55438a43",
   "metadata": {},
   "source": [
    "### <center>Density of Bikes Rented (By Hour)</center>"
   ]
  },
  {
   "cell_type": "code",
   "execution_count": 130,
   "id": "fddff3b8",
   "metadata": {
    "scrolled": false
   },
   "outputs": [
    {
     "data": {
      "application/vnd.jupyter.widget-view+json": {
       "model_id": "931e58e6f7a241b6b74078bd93aebc4f",
       "version_major": 2,
       "version_minor": 0
      },
      "text/plain": [
       "Output()"
      ]
     },
     "metadata": {},
     "output_type": "display_data"
    }
   ],
   "source": [
    "display(plotter4)"
   ]
  },
  {
   "cell_type": "markdown",
   "id": "ac7a58cc",
   "metadata": {},
   "source": [
    "### <center>Total Duration of Bikes Rented (By Hour)</center>"
   ]
  },
  {
   "cell_type": "code",
   "execution_count": 131,
   "id": "74e03d5e",
   "metadata": {},
   "outputs": [
    {
     "data": {
      "application/vnd.jupyter.widget-view+json": {
       "model_id": "c1540c2d9afd4cf096095ab0df22dca1",
       "version_major": 2,
       "version_minor": 0
      },
      "text/plain": [
       "Output()"
      ]
     },
     "metadata": {},
     "output_type": "display_data"
    }
   ],
   "source": [
    "display(plotter5)"
   ]
  },
  {
   "cell_type": "markdown",
   "id": "a5329a0e",
   "metadata": {},
   "source": [
    "## <center>Projected Data Correlation</center>"
   ]
  },
  {
   "cell_type": "markdown",
   "id": "2e320f72",
   "metadata": {},
   "source": [
    "### <center>Duration Based on Location and Day</center>"
   ]
  },
  {
   "cell_type": "code",
   "execution_count": 132,
   "id": "493a988e",
   "metadata": {
    "scrolled": false
   },
   "outputs": [
    {
     "data": {
      "application/vnd.jupyter.widget-view+json": {
       "model_id": "6bd4ced6e9c04e1ca3b128871cb86612",
       "version_major": 2,
       "version_minor": 0
      },
      "text/plain": [
       "Output()"
      ]
     },
     "metadata": {},
     "output_type": "display_data"
    }
   ],
   "source": [
    "display(projected1)"
   ]
  },
  {
   "cell_type": "markdown",
   "id": "a7cdbe20",
   "metadata": {},
   "source": [
    "### <center><font color='red'>WARNING</font></center>\n",
    "<center>If \"PROCESSING COMPLETED\" is not printed directly above \"WARNING\", notebook is still running calculations.</center>"
   ]
  },
  {
   "cell_type": "markdown",
   "id": "2ebdae20",
   "metadata": {},
   "source": [
    "fake_selection = full_data[(full_data.Month == \"December\") & (full_data[\"Start station number\"] != 0)]  \n",
    "fake_selection"
   ]
  },
  {
   "cell_type": "code",
   "execution_count": null,
   "id": "c3fba6ac",
   "metadata": {},
   "outputs": [],
   "source": []
  }
 ],
 "metadata": {
  "kernelspec": {
   "display_name": "Python 3 (ipykernel)",
   "language": "python",
   "name": "python3"
  },
  "language_info": {
   "codemirror_mode": {
    "name": "ipython",
    "version": 3
   },
   "file_extension": ".py",
   "mimetype": "text/x-python",
   "name": "python",
   "nbconvert_exporter": "python",
   "pygments_lexer": "ipython3",
   "version": "3.9.6"
  }
 },
 "nbformat": 4,
 "nbformat_minor": 5
}
